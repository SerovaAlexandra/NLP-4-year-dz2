{
 "cells": [
  {
   "cell_type": "code",
   "execution_count": 1,
   "id": "71ff776f",
   "metadata": {},
   "outputs": [],
   "source": [
    "import pandas as pd"
   ]
  },
  {
   "cell_type": "code",
   "execution_count": 2,
   "id": "d424becc",
   "metadata": {},
   "outputs": [],
   "source": [
    "def texts_reader(text_name):\n",
    "    with open (text_name, encoding = 'utf-8') as f:\n",
    "        text = f.read().replace ('\\n', ' ')\n",
    "    return text\n",
    "    "
   ]
  },
  {
   "cell_type": "code",
   "execution_count": 3,
   "id": "5f535a33",
   "metadata": {},
   "outputs": [],
   "source": [
    "text1 = texts_reader('1.txt')"
   ]
  },
  {
   "cell_type": "code",
   "execution_count": 4,
   "id": "14a35013",
   "metadata": {},
   "outputs": [],
   "source": [
    "text2 = texts_reader('2.txt')\n",
    "text3 = texts_reader('3.txt')\n",
    "text4 = texts_reader('4.txt')"
   ]
  },
  {
   "cell_type": "code",
   "execution_count": 5,
   "id": "1eb56e78",
   "metadata": {},
   "outputs": [
    {
     "data": {
      "text/plain": [
       "['тайна',\n",
       " 'безопасность',\n",
       " 'информация',\n",
       " 'неприкосновенность',\n",
       " 'уголовная ответственность']"
      ]
     },
     "execution_count": 5,
     "metadata": {},
     "output_type": "execute_result"
    }
   ],
   "source": [
    "with open ('key_words.txt', encoding = 'utf-8') as file:\n",
    "    key_words = file.readlines()\n",
    "    line1 = key_words[0].replace ('\\n', '').split(',')\n",
    "    line2 = key_words[1].replace ('\\n', '').split(',')\n",
    "    line3 = key_words[2].replace ('\\n', '').split(',')\n",
    "    line4 = key_words[3].replace ('\\n', '').split(',')\n",
    "line1   "
   ]
  },
  {
   "cell_type": "markdown",
   "id": "cd6245c9",
   "metadata": {},
   "source": [
    "Размер корпуса (количество токенов):"
   ]
  },
  {
   "cell_type": "code",
   "execution_count": 6,
   "id": "86927b6b",
   "metadata": {},
   "outputs": [
    {
     "name": "stdout",
     "output_type": "stream",
     "text": [
      "5892\n"
     ]
    }
   ],
   "source": [
    "print(len(text1.split(' '))+len(text2.split(' '))+len(text3.split(' '))+len(text4.split(' ')))"
   ]
  },
  {
   "cell_type": "code",
   "execution_count": 7,
   "id": "d7a73cfe",
   "metadata": {},
   "outputs": [],
   "source": [
    "my_key_1 = [\"информационная безопасность\", \"неприкосновенность\", \"тайна связи\", \"преступление\", \"ознакомление\", \"конфиденциальность\"]\n",
    "my_key_2 = [\"дисциплина гуманитарного цикла\", \"история\", \"социализация\", \"инновационные методы\", \"проект\", \"ликбез\"]\n",
    "my_key_3 = [\"серийный убица\", \"криминологический портрет\", \"насилие\", \"личность\", \"криминальная психология\", \"маска нормальности\"]\n",
    "my_key_4 = [\"киберкультура\", \"нанотехнологии\", \"трансгуманизм\", \"искусственный интеллект\", \"цивилизация\"]"
   ]
  },
  {
   "cell_type": "code",
   "execution_count": 8,
   "id": "7b1f687e",
   "metadata": {},
   "outputs": [],
   "source": [
    "def key_words_dealer(line, my_key):\n",
    "    new_list = []\n",
    "    new_list.extend(line)\n",
    "    mismatch_count = 0\n",
    "    for elem in my_key:\n",
    "        if elem not in line:\n",
    "            mismatch_count += 1\n",
    "            new_list.append(elem)\n",
    "    return mismatch_count, new_list\n",
    "        "
   ]
  },
  {
   "cell_type": "code",
   "execution_count": 9,
   "id": "0fbec96e",
   "metadata": {},
   "outputs": [
    {
     "name": "stdout",
     "output_type": "stream",
     "text": [
      "5\n",
      "['тайна', 'безопасность', 'информация', 'неприкосновенность', 'уголовная ответственность', 'информационная безопасность', 'тайна связи', 'преступление', 'ознакомление', 'конфиденциальность']\n"
     ]
    }
   ],
   "source": [
    "mismatch_count1, new_key_list1 = key_words_dealer(line1, my_key_1)\n",
    "print(mismatch_count1)\n",
    "print(new_key_list1)"
   ]
  },
  {
   "cell_type": "code",
   "execution_count": 10,
   "id": "cab51ec5",
   "metadata": {},
   "outputs": [
    {
     "name": "stdout",
     "output_type": "stream",
     "text": [
      "5\n",
      "['дисциплина «История»', 'дисциплины гуманитарного цикла', 'непрофильные вузы', 'общекультурные компетенции', 'инновационные методы', 'метод проектов', 'дисциплина гуманитарного цикла', 'история', 'социализация', 'проект', 'ликбез']\n"
     ]
    }
   ],
   "source": [
    "mismatch_count2, new_key_list2 = key_words_dealer(line2, my_key_2)\n",
    "print(mismatch_count2)\n",
    "print(new_key_list2)"
   ]
  },
  {
   "cell_type": "code",
   "execution_count": 11,
   "id": "f71a5110",
   "metadata": {},
   "outputs": [
    {
     "name": "stdout",
     "output_type": "stream",
     "text": [
      "5\n",
      "['серийный убийца', 'криминологический портрет', 'формирование личности серийного убийцы', 'серийный убица', 'насилие', 'личность', 'криминальная психология', 'маска нормальности']\n"
     ]
    }
   ],
   "source": [
    "mismatch_count3, new_key_list3 = key_words_dealer(line3, my_key_3)\n",
    "print(mismatch_count3)\n",
    "print(new_key_list3)"
   ]
  },
  {
   "cell_type": "code",
   "execution_count": 12,
   "id": "c86a03c8",
   "metadata": {},
   "outputs": [
    {
     "name": "stdout",
     "output_type": "stream",
     "text": [
      "1\n",
      "['киберкультура', 'нанотехнологии', 'искусственный интеллект', 'NBIC-конвергенция', 'трансгуманизм', 'телесность', 'коэволюция', 'гуманизм', 'цивилизация']\n"
     ]
    }
   ],
   "source": [
    "mismatch_count4, new_key_list4 = key_words_dealer(line4, my_key_4)\n",
    "print(mismatch_count4)\n",
    "print(new_key_list4)"
   ]
  },
  {
   "cell_type": "markdown",
   "id": "945def4c",
   "metadata": {},
   "source": [
    "## Описание данных\n",
    "Тексты были взяты с сайта \"КиберЛенинка\", это 4 статьи с заранее выделенными в них ключевыми словами.\n",
    "\n",
    "В колонке \"key_words_original\" - ключевые слова, выделенные в источнике, в \"my_key_words\" я поместила выделенные уже мной ключевые слова для каждого текста, в колонке \"key_words\" - список ключевых слов, полученный путем объединения двух предыдущих списков."
   ]
  },
  {
   "cell_type": "code",
   "execution_count": 13,
   "id": "9296d23e",
   "metadata": {},
   "outputs": [
    {
     "data": {
      "text/html": [
       "<div>\n",
       "<style scoped>\n",
       "    .dataframe tbody tr th:only-of-type {\n",
       "        vertical-align: middle;\n",
       "    }\n",
       "\n",
       "    .dataframe tbody tr th {\n",
       "        vertical-align: top;\n",
       "    }\n",
       "\n",
       "    .dataframe thead th {\n",
       "        text-align: right;\n",
       "    }\n",
       "</style>\n",
       "<table border=\"1\" class=\"dataframe\">\n",
       "  <thead>\n",
       "    <tr style=\"text-align: right;\">\n",
       "      <th></th>\n",
       "      <th>text</th>\n",
       "      <th>key_words_original</th>\n",
       "      <th>my_key_words</th>\n",
       "      <th>key_words</th>\n",
       "    </tr>\n",
       "  </thead>\n",
       "  <tbody>\n",
       "    <tr>\n",
       "      <th>0</th>\n",
       "      <td>В современном развивающемся российском информа...</td>\n",
       "      <td>[тайна, безопасность, информация, неприкоснове...</td>\n",
       "      <td>[информационная безопасность, неприкосновеннос...</td>\n",
       "      <td>[тайна, безопасность, информация, неприкоснове...</td>\n",
       "    </tr>\n",
       "    <tr>\n",
       "      <th>1</th>\n",
       "      <td>Изменение социальной реальности внесли коррект...</td>\n",
       "      <td>[дисциплина «История», дисциплины гуманитарног...</td>\n",
       "      <td>[дисциплина гуманитарного цикла, история, соци...</td>\n",
       "      <td>[дисциплина «История», дисциплины гуманитарног...</td>\n",
       "    </tr>\n",
       "    <tr>\n",
       "      <th>2</th>\n",
       "      <td>В данной статье будет рассмотрен криминологиче...</td>\n",
       "      <td>[серийный убийца, криминологический портрет, ф...</td>\n",
       "      <td>[серийный убица, криминологический портрет, на...</td>\n",
       "      <td>[серийный убийца, криминологический портрет, ф...</td>\n",
       "    </tr>\n",
       "    <tr>\n",
       "      <th>3</th>\n",
       "      <td>Введение. Киберкультура является новой формой ...</td>\n",
       "      <td>[киберкультура, нанотехнологии, искусственный ...</td>\n",
       "      <td>[киберкультура, нанотехнологии, трансгуманизм,...</td>\n",
       "      <td>[киберкультура, нанотехнологии, искусственный ...</td>\n",
       "    </tr>\n",
       "  </tbody>\n",
       "</table>\n",
       "</div>"
      ],
      "text/plain": [
       "                                                text  \\\n",
       "0  В современном развивающемся российском информа...   \n",
       "1  Изменение социальной реальности внесли коррект...   \n",
       "2  В данной статье будет рассмотрен криминологиче...   \n",
       "3  Введение. Киберкультура является новой формой ...   \n",
       "\n",
       "                                  key_words_original  \\\n",
       "0  [тайна, безопасность, информация, неприкоснове...   \n",
       "1  [дисциплина «История», дисциплины гуманитарног...   \n",
       "2  [серийный убийца, криминологический портрет, ф...   \n",
       "3  [киберкультура, нанотехнологии, искусственный ...   \n",
       "\n",
       "                                        my_key_words  \\\n",
       "0  [информационная безопасность, неприкосновеннос...   \n",
       "1  [дисциплина гуманитарного цикла, история, соци...   \n",
       "2  [серийный убица, криминологический портрет, на...   \n",
       "3  [киберкультура, нанотехнологии, трансгуманизм,...   \n",
       "\n",
       "                                           key_words  \n",
       "0  [тайна, безопасность, информация, неприкоснове...  \n",
       "1  [дисциплина «История», дисциплины гуманитарног...  \n",
       "2  [серийный убийца, криминологический портрет, ф...  \n",
       "3  [киберкультура, нанотехнологии, искусственный ...  "
      ]
     },
     "execution_count": 13,
     "metadata": {},
     "output_type": "execute_result"
    }
   ],
   "source": [
    "data = [{'text': text1, 'key_words_original': line1, 'my_key_words': my_key_1, 'key_words': new_key_list1},\n",
    "       {'text': text2, 'key_words_original': line2, 'my_key_words': my_key_2, 'key_words': new_key_list2},\n",
    "       {'text': text3, 'key_words_original': line3, 'my_key_words': my_key_3, 'key_words': new_key_list3},\n",
    "       {'text': text4, 'key_words_original': line4, 'my_key_words': my_key_4, 'key_words': new_key_list4}]\n",
    "df = pd.DataFrame(data)\n",
    "df"
   ]
  },
  {
   "cell_type": "markdown",
   "id": "ea7274df",
   "metadata": {},
   "source": [
    "### Задание 3\n",
    "#### Метод RAKE"
   ]
  },
  {
   "cell_type": "code",
   "execution_count": 14,
   "id": "ae5995f7",
   "metadata": {},
   "outputs": [],
   "source": [
    "import RAKE\n",
    "import nltk\n",
    "from nltk.corpus import stopwords"
   ]
  },
  {
   "cell_type": "code",
   "execution_count": 15,
   "id": "e47447f6",
   "metadata": {},
   "outputs": [],
   "source": [
    "from pymorphy2 import MorphAnalyzer\n",
    "from pymorphy2.tokenizers import simple_word_tokenize"
   ]
  },
  {
   "cell_type": "code",
   "execution_count": 16,
   "id": "9678fe8f",
   "metadata": {},
   "outputs": [],
   "source": [
    "stop = stopwords.words('russian')\n"
   ]
  },
  {
   "cell_type": "code",
   "execution_count": 17,
   "id": "26d84234",
   "metadata": {},
   "outputs": [],
   "source": [
    "rake = RAKE.Rake(stop)\n"
   ]
  },
  {
   "cell_type": "markdown",
   "id": "fe9a5469",
   "metadata": {},
   "source": [
    "Лемматизируем ключевые слова. Как можно видеть ниже (на примере выделения нелемматизированных слов в тексте1), без лемматизации в список слов попадают выражения в разных косвенных падежах, их потом будет сложно сравнить с \"эталоном\"."
   ]
  },
  {
   "cell_type": "code",
   "execution_count": 18,
   "id": "98d39c13",
   "metadata": {},
   "outputs": [],
   "source": [
    "m = MorphAnalyzer()\n",
    "def normalize_text(text):\n",
    "    lemmas = []\n",
    "    for t in simple_word_tokenize(text):\n",
    "        lemmas.append(\n",
    "            m.parse(t)[0].normal_form\n",
    "        )\n",
    "    return ' '.join(lemmas)"
   ]
  },
  {
   "cell_type": "code",
   "execution_count": 19,
   "id": "fb5779cf",
   "metadata": {},
   "outputs": [],
   "source": [
    "rake_kw_list_1_nonlemm = rake.run(text1, maxWords=3, minFrequency=2)\n"
   ]
  },
  {
   "cell_type": "code",
   "execution_count": 20,
   "id": "3a827f2a",
   "metadata": {},
   "outputs": [
    {
     "data": {
      "text/plain": [
       "[('неприкосновенность частной жизни', 9.0),\n",
       " ('нарушение тайны переписки', 8.5),\n",
       " ('каждый имеет право', 7.892857142857142),\n",
       " ('иных сообщений граждан', 7.472727272727273),\n",
       " ('тайну переписки', 5.1),\n",
       " ('иных сообщений', 4.472727272727273),\n",
       " ('телефонных переговоров', 4.183333333333334),\n",
       " ('частную жизнь', 4.0),\n",
       " ('подобрал пароль', 4.0),\n",
       " ('связи', 2.1666666666666665),\n",
       " ('право', 2.142857142857143),\n",
       " ('сведения', 1.8),\n",
       " ('почтовых', 1.4545454545454546),\n",
       " ('отмечает', 1.3333333333333333),\n",
       " ('ст', 1.1818181818181819),\n",
       " ('2 ст', 1.1818181818181819),\n",
       " ('телеграфных', 1.0),\n",
       " ('соответствии', 1.0),\n",
       " ('передаваемой', 1.0),\n",
       " ('л', 1.0),\n",
       " ('петрухина', 1.0),\n",
       " ('телефаксу', 1.0),\n",
       " ('полагаем', 1.0),\n",
       " ('д', 1.0),\n",
       " ('ч', 1.0),\n",
       " ('перепиской', 1.0),\n",
       " ('м', 1.0),\n",
       " ('письмом', 1.0),\n",
       " ('затем', 1.0),\n",
       " ('ознакомился', 1.0),\n",
       " ('который', 1.0),\n",
       " ('работе', 1.0),\n",
       " ('07', 0)]"
      ]
     },
     "execution_count": 20,
     "metadata": {},
     "output_type": "execute_result"
    }
   ],
   "source": [
    "rake_kw_list_1_nonlemm #нелемматизированные"
   ]
  },
  {
   "cell_type": "markdown",
   "id": "8a20d343",
   "metadata": {},
   "source": [
    "Выделение лемматизированных ключевых слов в тексте 1 (text1)"
   ]
  },
  {
   "cell_type": "code",
   "execution_count": 21,
   "id": "a2042a98",
   "metadata": {},
   "outputs": [
    {
     "data": {
      "text/plain": [
       "[('нарушение тайна переписка', 8.008547008547009),\n",
       " ('неприкосновенность частный жизнь', 8.0),\n",
       " ('каждый иметь право', 7.5),\n",
       " ('электронный почтовый ящик', 7.388888888888889),\n",
       " ('иной сообщение гражданин', 7.319548872180452),\n",
       " ('тайна переписка', 5.0085470085470085),\n",
       " ('частный жизнь', 5.0),\n",
       " ('иной сообщение', 4.319548872180452),\n",
       " ('телефонный переговоры', 4.243589743589744),\n",
       " ('содержание переписка', 4.230769230769231),\n",
       " ('юридический лицо', 3.75),\n",
       " ('подобрать пароль', 3.666666666666667),\n",
       " ('телеграфный сообщение', 3.462406015037594),\n",
       " ('диспозиция ст', 3.1818181818181817),\n",
       " ('переписка', 2.230769230769231),\n",
       " ('связь', 2.2222222222222223),\n",
       " ('ознакомление', 2.1666666666666665),\n",
       " ('право', 2.0),\n",
       " ('информация', 2.0),\n",
       " ('сведение', 1.8333333333333333),\n",
       " ('лицо', 1.75),\n",
       " ('почтовый', 1.7222222222222223),\n",
       " ('абонент', 1.6666666666666667),\n",
       " ('орган', 1.6666666666666667),\n",
       " ('передаваемый', 1.4),\n",
       " ('телеграфный', 1.3571428571428572),\n",
       " ('отмечать', 1.3333333333333333),\n",
       " ('полагать', 1.3333333333333333),\n",
       " ('находиться', 1.3333333333333333),\n",
       " ('это', 1.2),\n",
       " ('ст', 1.1818181818181819),\n",
       " ('2 ст', 1.1818181818181819),\n",
       " ('соответствие', 1.0),\n",
       " ('входящий', 1.0),\n",
       " ('л', 1.0),\n",
       " ('петрухин', 1.0),\n",
       " ('телеграф', 1.0),\n",
       " ('телефакс', 1.0),\n",
       " ('далее', 1.0),\n",
       " ('ч', 1.0),\n",
       " ('предназначить', 1.0),\n",
       " ('м', 1.0),\n",
       " ('письмо', 1.0),\n",
       " ('который', 1.0),\n",
       " ('затем', 1.0),\n",
       " ('ознакомиться', 1.0),\n",
       " ('зарегистрировать', 1.0),\n",
       " ('работа', 1.0),\n",
       " ('07', 0)]"
      ]
     },
     "execution_count": 21,
     "metadata": {},
     "output_type": "execute_result"
    }
   ],
   "source": [
    "rake_kw_list_1 = rake.run(normalize_text(text1), maxWords=3, minFrequency=2)\n",
    "rake_kw_list_1"
   ]
  },
  {
   "cell_type": "code",
   "execution_count": 22,
   "id": "5af1d90e",
   "metadata": {},
   "outputs": [
    {
     "data": {
      "text/plain": [
       "[('инновационный метод', 4.6),\n",
       " ('анализ информация', 4.583333333333334),\n",
       " ('выполнение проект', 4.476190476190476),\n",
       " ('круглый стол', 4.0),\n",
       " ('преподавание история', 3.9333333333333336),\n",
       " ('россия', 2.0),\n",
       " ('история', 1.9333333333333333),\n",
       " ('работа', 1.8),\n",
       " ('проблема', 1.5),\n",
       " ('др', 1.0),\n",
       " ('гражданственность', 1.0),\n",
       " ('сторона', 1.0),\n",
       " ('например', 1.0),\n",
       " ('далее', 1.0),\n",
       " ('образ', 1.0),\n",
       " ('дискуссия', 1.0),\n",
       " ('«', 0),\n",
       " ('»', 0)]"
      ]
     },
     "execution_count": 22,
     "metadata": {},
     "output_type": "execute_result"
    }
   ],
   "source": [
    "rake_kw_list_2 = rake.run(normalize_text(text2), maxWords=3, minFrequency=2)\n",
    "rake_kw_list_2"
   ]
  },
  {
   "cell_type": "code",
   "execution_count": 23,
   "id": "1a757e64",
   "metadata": {},
   "outputs": [
    {
     "data": {
      "text/plain": [
       "[('область криминальный психология', 9.0),\n",
       " ('прежде весь', 4.333333333333334),\n",
       " ('совершение преступление', 4.0),\n",
       " ('во-первых', 4.0),\n",
       " ('во-вторых', 4.0),\n",
       " ('в-третьих', 4.0),\n",
       " ('орудие убийство', 3.833333333333333),\n",
       " ('маска нормальность', 3.8),\n",
       " ('маньяк', 2.2222222222222223),\n",
       " ('это', 2.0),\n",
       " ('который', 2.0),\n",
       " ('иметь', 2.0),\n",
       " ('человек', 2.0),\n",
       " ('убийца', 1.8),\n",
       " ('личность', 1.8),\n",
       " ('однако', 1.8),\n",
       " ('действие', 1.6666666666666667),\n",
       " ('образ', 1.6666666666666667),\n",
       " ('убивать', 1.5),\n",
       " ('ребёнок', 1.3333333333333333),\n",
       " ('жертва', 1.3333333333333333),\n",
       " ('преступник', 1.0),\n",
       " ('выделить', 1.0),\n",
       " ('работать', 1.0),\n",
       " ('дезорганизовать', 1.0),\n",
       " ('правило', 1.0),\n",
       " ('говорить', 1.0),\n",
       " ('социум', 1.0),\n",
       " ('общество', 1.0)]"
      ]
     },
     "execution_count": 23,
     "metadata": {},
     "output_type": "execute_result"
    }
   ],
   "source": [
    "rake_kw_list_3 = rake.run(normalize_text(text3), maxWords=3, minFrequency=2)\n",
    "rake_kw_list_3"
   ]
  },
  {
   "cell_type": "code",
   "execution_count": 24,
   "id": "0a02bf1d",
   "metadata": {},
   "outputs": [
    {
     "data": {
      "text/plain": [
       "[('трансгуманизм', 2.142857142857143),\n",
       " ('человек', 2.1363636363636362),\n",
       " ('знание', 2.0),\n",
       " ('телесность', 2.0),\n",
       " ('тело', 2.0),\n",
       " ('сознание', 1.8),\n",
       " ('новый', 1.75),\n",
       " ('жизнь', 1.75),\n",
       " ('драть', 1.6666666666666667),\n",
       " ('природа', 1.625),\n",
       " ('естественный', 1.5),\n",
       " ('который', 1.3333333333333333),\n",
       " ('создание', 1.3333333333333333),\n",
       " ('сторона', 1.0),\n",
       " ('например', 1.0),\n",
       " ('г', 1.0),\n",
       " ('эсфендиарь', 1.0),\n",
       " ('культура', 1.0),\n",
       " ('использование', 1.0),\n",
       " ('говорить', 1.0),\n",
       " ('именно', 1.0),\n",
       " ('биотехнология', 1.0),\n",
       " ('нанотехнология', 1.0),\n",
       " ('н', 1.0),\n",
       " ('п', 1.0),\n",
       " ('всё', 1.0),\n",
       " ('коэволюция', 1.0),\n",
       " ('бегство', 1.0),\n",
       " ('применение', 1.0),\n",
       " ('образ', 1.0)]"
      ]
     },
     "execution_count": 24,
     "metadata": {},
     "output_type": "execute_result"
    }
   ],
   "source": [
    "rake_kw_list_4 = rake.run(normalize_text(text4), maxWords=3, minFrequency=2)\n",
    "rake_kw_list_4"
   ]
  },
  {
   "cell_type": "code",
   "execution_count": 25,
   "id": "25942a03",
   "metadata": {},
   "outputs": [],
   "source": [
    "def rake_kw(rake_tuple):\n",
    "    rake_text_kw = []\n",
    "    for elem in rake_tuple:\n",
    "        rake_text_kw.append(elem[0])\n",
    "    return rake_text_kw"
   ]
  },
  {
   "cell_type": "code",
   "execution_count": 26,
   "id": "8b336ba7",
   "metadata": {},
   "outputs": [],
   "source": [
    "rake_kw_1 = rake_kw(rake_kw_list_1)\n",
    "rake_kw_2 = rake_kw(rake_kw_list_2)\n",
    "rake_kw_3 = rake_kw(rake_kw_list_3)\n",
    "rake_kw_4 = rake_kw(rake_kw_list_4)"
   ]
  },
  {
   "cell_type": "markdown",
   "id": "bcf42009",
   "metadata": {},
   "source": [
    "#### Применение TextRank"
   ]
  },
  {
   "cell_type": "code",
   "execution_count": 27,
   "id": "165a2764",
   "metadata": {},
   "outputs": [],
   "source": [
    "from summa import keywords\n"
   ]
  },
  {
   "cell_type": "code",
   "execution_count": 28,
   "id": "a0ab05de",
   "metadata": {},
   "outputs": [
    {
     "data": {
      "text/plain": [
       "[('тайна', 0.2421498314725373),\n",
       " ('связь', 0.21071572451157347),\n",
       " ('свой', 0.16381829011535357),\n",
       " ('почтовый', 0.15324912216400915),\n",
       " ('почтово корреспонденция', 0.1469930553997204),\n",
       " ('это', 0.13309515150918863),\n",
       " ('являться информация', 0.13119754299169442),\n",
       " ('лицо', 0.11940610463698806),\n",
       " ('гражданин', 0.11819698817571012),\n",
       " ('иной сообщение', 0.11605739475086013),\n",
       " ('который', 0.11374119425350052),\n",
       " ('незаконный', 0.10970207868418623),\n",
       " ('незаконно', 0.10970207868418623),\n",
       " ('получить', 0.10229786338618505),\n",
       " ('переписка', 0.10212377522457969),\n",
       " ('законный', 0.09750618504729201),\n",
       " ('профессиональный', 0.0936058450226666),\n",
       " ('услуга', 0.09271831147427058),\n",
       " ('сведение', 0.09235202487748814),\n",
       " ('следовать', 0.09202679301148045),\n",
       " ('иметь право', 0.08977617638468721),\n",
       " ('конфиденциальный', 0.08886541936740738),\n",
       " ('федеральный закон', 0.08781606782534579),\n",
       " ('способ', 0.08544985184316468),\n",
       " ('данный преступление', 0.08464160897748382),\n",
       " ('незаконность действие', 0.08359859221107489),\n",
       " ('ст', 0.08333469167914084),\n",
       " ('телефонный', 0.0821293239175432),\n",
       " ('телефон', 0.0821293239175432),\n",
       " ('личный', 0.07829515880358229),\n",
       " ('специальный', 0.07624267522556834),\n",
       " ('лишь', 0.07515002790484167),\n",
       " ('совершенный', 0.07514659966721327),\n",
       " ('российский информационный', 0.07500242369309992),\n",
       " ('передаваемый', 0.07445604457368972),\n",
       " ('уголовный ответственность', 0.07305669288195935),\n",
       " ('оперативно', 0.07133802113700477),\n",
       " ('широта', 0.07099066281469923),\n",
       " ('доступ', 0.07000349863584761),\n",
       " ('гарантировать', 0.06996390077166197),\n",
       " ('гарантироваться', 0.06996390077166197),\n",
       " ('случай совершение', 0.06916244456636333),\n",
       " ('частный', 0.06907500626734168),\n",
       " ('частное', 0.06907500626734168),\n",
       " ('сторона', 0.06905517682065429),\n",
       " ('посредство', 0.06838312481906926),\n",
       " ('посредством', 0.06838312481906926),\n",
       " ('технический', 0.06788663788143517),\n",
       " ('всё', 0.06720989222289388),\n",
       " ('электронный', 0.06628447088365429),\n",
       " ('сеть', 0.06552378367203933),\n",
       " ('содержание', 0.06491140751432808),\n",
       " ('средство', 0.06364098608048648),\n",
       " ('г', 0.06318363724330245),\n",
       " ('становиться вопрос', 0.06303521947638702),\n",
       " ('орган', 0.06250692816028594),\n",
       " ('законодатель', 0.06110549242433345),\n",
       " ('конверт', 0.06083421725464406),\n",
       " ('конституция', 0.060610076876412046),\n",
       " ('работник', 0.06034087547656137),\n",
       " ('з', 0.06001810382978071),\n",
       " ('критика', 0.05894471840993114),\n",
       " ('прокурор', 0.05894471840993083),\n",
       " ('бизнес', 0.058944718409930624),\n",
       " ('телефакс', 0.05894471840993042),\n",
       " ('опасаться', 0.05894471840993034),\n",
       " ('обязанность', 0.05818983119620287),\n",
       " ('преступник', 0.057562033883453566),\n",
       " ('нарушение', 0.056537162898391086),\n",
       " ('система', 0.05643329002910936),\n",
       " ('мочь', 0.05603724900112863),\n",
       " ('интернет', 0.05557300027442497),\n",
       " ('также', 0.054997248807691995),\n",
       " ('деятельность оператор', 0.054395600792299145),\n",
       " ('ознакомление', 0.05413662797243371),\n",
       " ('необходимый', 0.05407085236013234),\n",
       " ('необходимо', 0.05407085236013234),\n",
       " ('телеграфный', 0.05370795390584614),\n",
       " ('получение', 0.053691637895895934),\n",
       " ('рф', 0.05338107842576755),\n",
       " ('данные', 0.05337989258811416),\n",
       " ('использовать', 0.05268013007848471),\n",
       " ('мтс', 0.05073174147454399)]"
      ]
     },
     "execution_count": 28,
     "metadata": {},
     "output_type": "execute_result"
    }
   ],
   "source": [
    "textrank_1 = keywords.keywords(normalize_text(text1), language='russian', additional_stopwords=stop, scores=True)\n",
    "textrank_1"
   ]
  },
  {
   "cell_type": "code",
   "execution_count": 29,
   "id": "c246e69d",
   "metadata": {},
   "outputs": [],
   "source": [
    "textrank_2 = keywords.keywords(normalize_text(text2), language='russian', additional_stopwords=stop, scores=True)\n",
    "textrank_3 = keywords.keywords(normalize_text(text3), language='russian', additional_stopwords=stop, scores=True)\n",
    "textrank_4 = keywords.keywords(normalize_text(text4), language='russian', additional_stopwords=stop, scores=True)"
   ]
  },
  {
   "cell_type": "markdown",
   "id": "a6363207",
   "metadata": {},
   "source": [
    "Получаем списки ключевых слов, выявленных методом TextRank для каждого текста:"
   ]
  },
  {
   "cell_type": "code",
   "execution_count": 30,
   "id": "0fc30e01",
   "metadata": {},
   "outputs": [],
   "source": [
    "textrank_kw_1 = rake_kw(textrank_1)\n",
    "textrank_kw_2 = rake_kw(textrank_2)\n",
    "textrank_kw_3 = rake_kw(textrank_3)\n",
    "textrank_kw_4 = rake_kw(textrank_4)"
   ]
  },
  {
   "cell_type": "code",
   "execution_count": 31,
   "id": "943e9398",
   "metadata": {},
   "outputs": [
    {
     "data": {
      "text/plain": [
       "['тайна',\n",
       " 'связь',\n",
       " 'свой',\n",
       " 'почтовый',\n",
       " 'почтово корреспонденция',\n",
       " 'это',\n",
       " 'являться информация',\n",
       " 'лицо',\n",
       " 'гражданин',\n",
       " 'иной сообщение',\n",
       " 'который',\n",
       " 'незаконный',\n",
       " 'незаконно',\n",
       " 'получить',\n",
       " 'переписка',\n",
       " 'законный',\n",
       " 'профессиональный',\n",
       " 'услуга',\n",
       " 'сведение',\n",
       " 'следовать',\n",
       " 'иметь право',\n",
       " 'конфиденциальный',\n",
       " 'федеральный закон',\n",
       " 'способ',\n",
       " 'данный преступление',\n",
       " 'незаконность действие',\n",
       " 'ст',\n",
       " 'телефонный',\n",
       " 'телефон',\n",
       " 'личный',\n",
       " 'специальный',\n",
       " 'лишь',\n",
       " 'совершенный',\n",
       " 'российский информационный',\n",
       " 'передаваемый',\n",
       " 'уголовный ответственность',\n",
       " 'оперативно',\n",
       " 'широта',\n",
       " 'доступ',\n",
       " 'гарантировать',\n",
       " 'гарантироваться',\n",
       " 'случай совершение',\n",
       " 'частный',\n",
       " 'частное',\n",
       " 'сторона',\n",
       " 'посредство',\n",
       " 'посредством',\n",
       " 'технический',\n",
       " 'всё',\n",
       " 'электронный',\n",
       " 'сеть',\n",
       " 'содержание',\n",
       " 'средство',\n",
       " 'г',\n",
       " 'становиться вопрос',\n",
       " 'орган',\n",
       " 'законодатель',\n",
       " 'конверт',\n",
       " 'конституция',\n",
       " 'работник',\n",
       " 'з',\n",
       " 'критика',\n",
       " 'прокурор',\n",
       " 'бизнес',\n",
       " 'телефакс',\n",
       " 'опасаться',\n",
       " 'обязанность',\n",
       " 'преступник',\n",
       " 'нарушение',\n",
       " 'система',\n",
       " 'мочь',\n",
       " 'интернет',\n",
       " 'также',\n",
       " 'деятельность оператор',\n",
       " 'ознакомление',\n",
       " 'необходимый',\n",
       " 'необходимо',\n",
       " 'телеграфный',\n",
       " 'получение',\n",
       " 'рф',\n",
       " 'данные',\n",
       " 'использовать',\n",
       " 'мтс']"
      ]
     },
     "execution_count": 31,
     "metadata": {},
     "output_type": "execute_result"
    }
   ],
   "source": [
    "textrank_kw_1"
   ]
  },
  {
   "cell_type": "markdown",
   "id": "4ac5bf3b",
   "metadata": {},
   "source": [
    "#### KeyBERT"
   ]
  },
  {
   "cell_type": "code",
   "execution_count": 32,
   "id": "9f2d6034",
   "metadata": {},
   "outputs": [],
   "source": [
    "from keybert import KeyBERT\n"
   ]
  },
  {
   "cell_type": "code",
   "execution_count": 33,
   "id": "39d2e3e8",
   "metadata": {},
   "outputs": [
    {
     "name": "stderr",
     "output_type": "stream",
     "text": [
      "C:\\Users\\User\\AppData\\Local\\Programs\\Python\\Python310\\lib\\site-packages\\transformers\\configuration_utils.py:363: UserWarning: Passing `gradient_checkpointing` to a config initialization is deprecated and will be removed in v5 Transformers. Using `model.gradient_checkpointing_enable()` instead, or if you are using the `Trainer` API, pass `gradient_checkpointing=True` in your `TrainingArguments`.\n",
      "  warnings.warn(\n"
     ]
    }
   ],
   "source": [
    "kw_model = KeyBERT('clips/mfaq')"
   ]
  },
  {
   "cell_type": "code",
   "execution_count": 34,
   "id": "7716b0a9",
   "metadata": {},
   "outputs": [],
   "source": [
    "kbert_text1_1 = kw_model.extract_keywords(text1)"
   ]
  },
  {
   "cell_type": "code",
   "execution_count": 35,
   "id": "7f5aee69",
   "metadata": {},
   "outputs": [
    {
     "data": {
      "text/plain": [
       "[('неприкосновенности', 0.9673),\n",
       " ('безопасности', 0.9665),\n",
       " ('права', 0.9661),\n",
       " ('неприкосновенность', 0.9656),\n",
       " ('право', 0.9649)]"
      ]
     },
     "execution_count": 35,
     "metadata": {},
     "output_type": "execute_result"
    }
   ],
   "source": [
    "kbert_text1_1"
   ]
  },
  {
   "cell_type": "code",
   "execution_count": 36,
   "id": "4bdb743b",
   "metadata": {},
   "outputs": [
    {
     "data": {
      "text/plain": [
       "[('безопасность личность', 0.9741),\n",
       " ('жизнь право', 0.9699),\n",
       " ('государство тайна', 0.9683),\n",
       " ('личность конституция', 0.9682),\n",
       " ('право человек', 0.9673)]"
      ]
     },
     "execution_count": 36,
     "metadata": {},
     "output_type": "execute_result"
    }
   ],
   "source": [
    "kbert_text1_2 = kw_model.extract_keywords(normalize_text(text1), keyphrase_ngram_range=(1, 2), stop_words=None)\n",
    "kbert_text1_2"
   ]
  },
  {
   "cell_type": "code",
   "execution_count": 37,
   "id": "ac648e6e",
   "metadata": {},
   "outputs": [
    {
     "data": {
      "text/plain": [
       "[('психология', 0.9686),\n",
       " ('науке', 0.9685),\n",
       " ('науки', 0.9684),\n",
       " ('философия', 0.9684),\n",
       " ('физику', 0.9681)]"
      ]
     },
     "execution_count": 37,
     "metadata": {},
     "output_type": "execute_result"
    }
   ],
   "source": [
    "kbert_text2_1 = kw_model.extract_keywords(text2)\n",
    "kbert_text2_1"
   ]
  },
  {
   "cell_type": "code",
   "execution_count": 38,
   "id": "dc195d94",
   "metadata": {},
   "outputs": [
    {
     "data": {
      "text/plain": [
       "[('проблема преподавание', 0.9725),\n",
       " ('наука', 0.9714),\n",
       " ('экономический', 0.9708),\n",
       " ('экономика', 0.9706),\n",
       " ('парадигма образование', 0.9706)]"
      ]
     },
     "execution_count": 38,
     "metadata": {},
     "output_type": "execute_result"
    }
   ],
   "source": [
    "kbert_text2_2 = kw_model.extract_keywords(normalize_text(text2), keyphrase_ngram_range=(1, 2), stop_words=None)\n",
    "kbert_text2_2"
   ]
  },
  {
   "cell_type": "code",
   "execution_count": 39,
   "id": "5102ee18",
   "metadata": {},
   "outputs": [
    {
     "data": {
      "text/plain": [
       "[('психики', 0.9711),\n",
       " ('теорию', 0.9709),\n",
       " ('психологии', 0.9707),\n",
       " ('убийцы', 0.9704),\n",
       " ('убийц', 0.9704)]"
      ]
     },
     "execution_count": 39,
     "metadata": {},
     "output_type": "execute_result"
    }
   ],
   "source": [
    "kbert_text3_1 = kw_model.extract_keywords(text3)\n",
    "kbert_text3_1"
   ]
  },
  {
   "cell_type": "code",
   "execution_count": 40,
   "id": "58082bab",
   "metadata": {},
   "outputs": [
    {
     "data": {
      "text/plain": [
       "[('психология серийный', 0.9729),\n",
       " ('особый психология', 0.9728),\n",
       " ('изучать история', 0.9725),\n",
       " ('психология', 0.9722),\n",
       " ('личность изучать', 0.972)]"
      ]
     },
     "execution_count": 40,
     "metadata": {},
     "output_type": "execute_result"
    }
   ],
   "source": [
    "kbert_text3_2 = kw_model.extract_keywords(normalize_text(text3), keyphrase_ngram_range=(1, 2), stop_words=None)\n",
    "kbert_text3_2"
   ]
  },
  {
   "cell_type": "code",
   "execution_count": 41,
   "id": "7ad74c0f",
   "metadata": {},
   "outputs": [
    {
     "data": {
      "text/plain": [
       "[('смыслы', 0.9624),\n",
       " ('осмысления', 0.9621),\n",
       " ('феномены', 0.9614),\n",
       " ('человечности', 0.9612),\n",
       " ('теорию', 0.961)]"
      ]
     },
     "execution_count": 41,
     "metadata": {},
     "output_type": "execute_result"
    }
   ],
   "source": [
    "kbert_text4_1 = kw_model.extract_keywords(text4)\n",
    "kbert_text4_1"
   ]
  },
  {
   "cell_type": "code",
   "execution_count": 42,
   "id": "934a4241",
   "metadata": {},
   "outputs": [
    {
     "data": {
      "text/plain": [
       "[('киберкультура являться', 0.9661),\n",
       " ('социокультурный реальность', 0.9661),\n",
       " ('введение киберкультура', 0.9651),\n",
       " ('достижение киберкультура', 0.9647),\n",
       " ('культура единство', 0.9645)]"
      ]
     },
     "execution_count": 42,
     "metadata": {},
     "output_type": "execute_result"
    }
   ],
   "source": [
    "kbert_text4_2 = kw_model.extract_keywords(normalize_text(text4), keyphrase_ngram_range=(1, 2), stop_words=None)\n",
    "kbert_text4_2"
   ]
  },
  {
   "cell_type": "code",
   "execution_count": 43,
   "id": "0bb8ba5f",
   "metadata": {},
   "outputs": [],
   "source": [
    "text1_kbert = rake_kw(kbert_text1_1)\n",
    "text1_kbert_lemm = rake_kw(kbert_text1_2)\n",
    "text2_kbert = rake_kw(kbert_text2_1)\n",
    "text2_kbert_lemm = rake_kw(kbert_text2_2)\n",
    "text3_kbert = rake_kw(kbert_text3_1)\n",
    "text3_kbert_lemm = rake_kw(kbert_text3_2)\n",
    "text4_kbert = rake_kw(kbert_text4_1)\n",
    "text4_kbert_lemm = rake_kw(kbert_text4_2)"
   ]
  },
  {
   "cell_type": "code",
   "execution_count": 45,
   "id": "49e2f94e",
   "metadata": {},
   "outputs": [],
   "source": [
    "def key_norm(key_list):\n",
    "    new_list = []\n",
    "    for elem in key_list:\n",
    "        new_list.append(normalize_text(elem))\n",
    "    return new_list\n",
    "text1_kbert = key_norm(text1_kbert)\n",
    "text2kbert = key_norm(text2_kbert)\n",
    "text3_kbert = key_norm(text3_kbert)\n",
    "text4_kbert = key_norm(text4_kbert)"
   ]
  },
  {
   "cell_type": "code",
   "execution_count": 46,
   "id": "de8b8a60",
   "metadata": {},
   "outputs": [
    {
     "data": {
      "text/html": [
       "<div>\n",
       "<style scoped>\n",
       "    .dataframe tbody tr th:only-of-type {\n",
       "        vertical-align: middle;\n",
       "    }\n",
       "\n",
       "    .dataframe tbody tr th {\n",
       "        vertical-align: top;\n",
       "    }\n",
       "\n",
       "    .dataframe thead th {\n",
       "        text-align: right;\n",
       "    }\n",
       "</style>\n",
       "<table border=\"1\" class=\"dataframe\">\n",
       "  <thead>\n",
       "    <tr style=\"text-align: right;\">\n",
       "      <th></th>\n",
       "      <th>text</th>\n",
       "      <th>key_words_original</th>\n",
       "      <th>my_key_words</th>\n",
       "      <th>key_words</th>\n",
       "      <th>rake_results</th>\n",
       "      <th>textrank_resuls</th>\n",
       "      <th>keybert_results_simple</th>\n",
       "      <th>keybert_results_ngrams</th>\n",
       "    </tr>\n",
       "  </thead>\n",
       "  <tbody>\n",
       "    <tr>\n",
       "      <th>0</th>\n",
       "      <td>В современном развивающемся российском информа...</td>\n",
       "      <td>[тайна, безопасность, информация, неприкоснове...</td>\n",
       "      <td>[информационная безопасность, неприкосновеннос...</td>\n",
       "      <td>[тайна, безопасность, информация, неприкоснове...</td>\n",
       "      <td>[нарушение тайна переписка, неприкосновенность...</td>\n",
       "      <td>[тайна, связь, свой, почтовый, почтово корресп...</td>\n",
       "      <td>[неприкосновенность, безопасность, право, непр...</td>\n",
       "      <td>[безопасность личность, жизнь право, государст...</td>\n",
       "    </tr>\n",
       "    <tr>\n",
       "      <th>1</th>\n",
       "      <td>Изменение социальной реальности внесли коррект...</td>\n",
       "      <td>[дисциплина «История», дисциплины гуманитарног...</td>\n",
       "      <td>[дисциплина гуманитарного цикла, история, соци...</td>\n",
       "      <td>[дисциплина «История», дисциплины гуманитарног...</td>\n",
       "      <td>[инновационный метод, анализ информация, выпол...</td>\n",
       "      <td>[история, студент, исторический знание, пробле...</td>\n",
       "      <td>[психология, науке, науки, философия, физику]</td>\n",
       "      <td>[проблема преподавание, наука, экономический, ...</td>\n",
       "    </tr>\n",
       "    <tr>\n",
       "      <th>2</th>\n",
       "      <td>В данной статье будет рассмотрен криминологиче...</td>\n",
       "      <td>[серийный убийца, криминологический портрет, ф...</td>\n",
       "      <td>[серийный убица, криминологический портрет, на...</td>\n",
       "      <td>[серийный убийца, криминологический портрет, ф...</td>\n",
       "      <td>[область криминальный психология, прежде весь,...</td>\n",
       "      <td>[преступление, маньяк, серийный убийца, всё, к...</td>\n",
       "      <td>[психика, теория, психология, убийца, убийца]</td>\n",
       "      <td>[психология серийный, особый психология, изуча...</td>\n",
       "    </tr>\n",
       "    <tr>\n",
       "      <th>3</th>\n",
       "      <td>Введение. Киберкультура является новой формой ...</td>\n",
       "      <td>[киберкультура, нанотехнологии, искусственный ...</td>\n",
       "      <td>[киберкультура, нанотехнологии, трансгуманизм,...</td>\n",
       "      <td>[киберкультура, нанотехнологии, искусственный ...</td>\n",
       "      <td>[трансгуманизм, человек, знание, телесность, т...</td>\n",
       "      <td>[свой, отношение человек, который, человечески...</td>\n",
       "      <td>[смысл, осмысление, феномен, человечность, тео...</td>\n",
       "      <td>[киберкультура являться, социокультурный реаль...</td>\n",
       "    </tr>\n",
       "  </tbody>\n",
       "</table>\n",
       "</div>"
      ],
      "text/plain": [
       "                                                text  \\\n",
       "0  В современном развивающемся российском информа...   \n",
       "1  Изменение социальной реальности внесли коррект...   \n",
       "2  В данной статье будет рассмотрен криминологиче...   \n",
       "3  Введение. Киберкультура является новой формой ...   \n",
       "\n",
       "                                  key_words_original  \\\n",
       "0  [тайна, безопасность, информация, неприкоснове...   \n",
       "1  [дисциплина «История», дисциплины гуманитарног...   \n",
       "2  [серийный убийца, криминологический портрет, ф...   \n",
       "3  [киберкультура, нанотехнологии, искусственный ...   \n",
       "\n",
       "                                        my_key_words  \\\n",
       "0  [информационная безопасность, неприкосновеннос...   \n",
       "1  [дисциплина гуманитарного цикла, история, соци...   \n",
       "2  [серийный убица, криминологический портрет, на...   \n",
       "3  [киберкультура, нанотехнологии, трансгуманизм,...   \n",
       "\n",
       "                                           key_words  \\\n",
       "0  [тайна, безопасность, информация, неприкоснове...   \n",
       "1  [дисциплина «История», дисциплины гуманитарног...   \n",
       "2  [серийный убийца, криминологический портрет, ф...   \n",
       "3  [киберкультура, нанотехнологии, искусственный ...   \n",
       "\n",
       "                                        rake_results  \\\n",
       "0  [нарушение тайна переписка, неприкосновенность...   \n",
       "1  [инновационный метод, анализ информация, выпол...   \n",
       "2  [область криминальный психология, прежде весь,...   \n",
       "3  [трансгуманизм, человек, знание, телесность, т...   \n",
       "\n",
       "                                     textrank_resuls  \\\n",
       "0  [тайна, связь, свой, почтовый, почтово корресп...   \n",
       "1  [история, студент, исторический знание, пробле...   \n",
       "2  [преступление, маньяк, серийный убийца, всё, к...   \n",
       "3  [свой, отношение человек, который, человечески...   \n",
       "\n",
       "                              keybert_results_simple  \\\n",
       "0  [неприкосновенность, безопасность, право, непр...   \n",
       "1      [психология, науке, науки, философия, физику]   \n",
       "2      [психика, теория, психология, убийца, убийца]   \n",
       "3  [смысл, осмысление, феномен, человечность, тео...   \n",
       "\n",
       "                              keybert_results_ngrams  \n",
       "0  [безопасность личность, жизнь право, государст...  \n",
       "1  [проблема преподавание, наука, экономический, ...  \n",
       "2  [психология серийный, особый психология, изуча...  \n",
       "3  [киберкультура являться, социокультурный реаль...  "
      ]
     },
     "execution_count": 46,
     "metadata": {},
     "output_type": "execute_result"
    }
   ],
   "source": [
    "data_2 = [{'text': text1, 'key_words_original': line1, 'my_key_words': my_key_1, 'key_words': new_key_list1, 'rake_results': rake_kw_1, 'textrank_resuls': textrank_kw_1, 'keybert_results_simple': text1_kbert, 'keybert_results_ngrams': text1_kbert_lemm},\n",
    "       {'text': text2, 'key_words_original': line2, 'my_key_words': my_key_2, 'key_words': new_key_list2, 'rake_results':rake_kw_2, 'textrank_resuls': textrank_kw_2, 'keybert_results_simple': text2_kbert, 'keybert_results_ngrams': text2_kbert_lemm},\n",
    "       {'text': text3, 'key_words_original': line3, 'my_key_words': my_key_3, 'key_words': new_key_list3, 'rake_results':rake_kw_3, 'textrank_resuls': textrank_kw_3, 'keybert_results_simple': text3_kbert, 'keybert_results_ngrams': text3_kbert_lemm},\n",
    "       {'text': text4, 'key_words_original': line4, 'my_key_words': my_key_4, 'key_words': new_key_list4, 'rake_results':rake_kw_4, 'textrank_resuls': textrank_kw_4, 'keybert_results_simple': text4_kbert, 'keybert_results_ngrams': text4_kbert_lemm}]\n",
    "df1 = pd.DataFrame(data_2)\n",
    "df1"
   ]
  },
  {
   "cell_type": "markdown",
   "id": "9917ac86",
   "metadata": {},
   "source": [
    "Колонки датасета:\n",
    "\n",
    "\n",
    "text - оригинальный текст статьи\n",
    "\n",
    "\n",
    "key_words_original - ключевые слова для статьи, выделенные в источнике\n",
    "\n",
    "\n",
    "my_key_words - ключевые слова, выделенные мной\n",
    "\n",
    "\n",
    "key_words - список, полученный объединением двух предыдущих списков\n",
    "\n",
    "\n",
    "rake_results - ключевые слова, выделенные методом RAKE\n",
    "\n",
    "\n",
    "textrank_resuls - ключевые слова, выделенные методом TextRank\n",
    "\n",
    "\n",
    "keybert_results_simple - ключевые слова, выделенные с помощью KeyBERT (без лемматизации и выделения n-грам, такой подход, как кажется, неплохо выделяет основные однословные понятия из статей, согласующиеся с темой, но может выделить разные формы одного слова в качестве разных ключевых слов, также не выделяет многословные ключевые понятия, хотя составляют основную часть, как правило)\n",
    "\n",
    "\n",
    "keybert_results_ngrams - ключевые слова, выделенные с помощью KeyBERT с применением лемматизации и выделением n-грам (такой подход решает упомянутые минусы предыдущего, но можно видеть, что словосочетания выделяются иногда бессмысленно, например, 'киберкультура являться')"
   ]
  },
  {
   "cell_type": "markdown",
   "id": "c346667b",
   "metadata": {},
   "source": [
    "### Задание 4"
   ]
  },
  {
   "cell_type": "code",
   "execution_count": 47,
   "id": "0fbddd9f",
   "metadata": {},
   "outputs": [],
   "source": [
    "from pymorphy2 import MorphAnalyzer\n",
    "morph = MorphAnalyzer()"
   ]
  },
  {
   "cell_type": "code",
   "execution_count": 48,
   "id": "e0f88590",
   "metadata": {},
   "outputs": [],
   "source": [
    "import nltk\n",
    "from nltk.tokenize import word_tokenize"
   ]
  },
  {
   "cell_type": "markdown",
   "id": "075322df",
   "metadata": {},
   "source": [
    "Шаблоны для ключевых слов:\n",
    "\n",
    "\n",
    "NOUN+NOUN (GEN) - сущ.+сущ. в род. падеже (например, \"анализ информации\")\n",
    "\n",
    "\n",
    "NOUN+ADJ+NOUN(GEN) - сущ+прил+сущ в род.падеже (например, \"дисциплины гуманитарного цикла\")\n",
    "\n",
    "\n",
    "ADJ+NOUN - прил+сущ (\"искусственный интеллект\")\n"
   ]
  },
  {
   "cell_type": "markdown",
   "id": "5aa686d3",
   "metadata": {},
   "source": [
    "Выбор наиболее частотных соответствий шаблонам из каждого текста:"
   ]
  },
  {
   "cell_type": "code",
   "execution_count": 49,
   "id": "c7aa6ff3",
   "metadata": {},
   "outputs": [],
   "source": [
    "def nouns_count(nouns_list):\n",
    "    nouns_dict = {}\n",
    "    for elem in nouns_list:\n",
    "        if elem not in nouns_dict.keys():\n",
    "            freq = nouns_list.count(elem)\n",
    "            if freq > 2:\n",
    "                nouns_dict[elem] = freq\n",
    "    return nouns_dict\n",
    "\n",
    "def texts_parse_nouns(text):\n",
    "    text = word_tokenize(text)\n",
    "    nouns_list = []\n",
    "    for i in range(len(text)):\n",
    "        pass\n",
    "    for word in text:\n",
    "        if word.isalpha:\n",
    "            if 'NOUN' in morph.parse(word)[0].tag and text.index(word)+1 <= len(text):\n",
    "                if 'gent' in morph.parse(text[text.index(word)+1])[0].tag and 'NOUN' in morph.parse(text[text.index(word)+1])[0].tag:\n",
    "                    nouns_list.append(' '.join([morph.parse(word)[0].normal_form, morph.parse(text[text.index(word)+1])[0].normal_form]))\n",
    "                elif text.index(word)+2 <= len(text):\n",
    "                    if 'ADJF' in morph.parse(text[text.index(word)+1])[0].tag and 'NOUN' in morph.parse(text[text.index(word)+2])[0].tag and 'gent' in morph.parse(text[text.index(word)+2])[0].tag:\n",
    "                        nouns_list.append(' '.join([morph.parse(word)[0].normal_form, morph.parse(text[text.index(word)+1])[0].normal_form, morph.parse(text[text.index(word)+2])[0].normal_form ]))\n",
    "            elif 'ADJF' in morph.parse(word)[0].tag and text.index(word)+1 <= len(text):\n",
    "                if 'NOUN' in morph.parse(text[text.index(word)+1])[0].tag:\n",
    "                    nouns_list.append(' '.join([morph.parse(word)[0].normal_form, morph.parse(text[text.index(word)+1])[0].normal_form]))\n",
    "    return nouns_count(nouns_list)\n",
    "        "
   ]
  },
  {
   "cell_type": "code",
   "execution_count": 50,
   "id": "96c7d685",
   "metadata": {},
   "outputs": [
    {
     "data": {
      "text/plain": [
       "{'вопрос обеспечение': 3,\n",
       " 'российский федерация': 5,\n",
       " 'неприкосновенность частный жизнь': 3,\n",
       " 'частный жизнь': 5,\n",
       " 'телефонный переговоры': 13,\n",
       " 'иной сообщение': 14,\n",
       " 'тайна связь': 21,\n",
       " 'федеральный закон': 4,\n",
       " 'почтовый связь': 4,\n",
       " 'тайна переписка': 3,\n",
       " 'оператор связь': 4,\n",
       " 'получение информация': 4,\n",
       " 'профессиональный тайна': 5,\n",
       " 'содержание такой корреспонденция': 3,\n",
       " 'ук рф': 6,\n",
       " 'уголовный ответственность': 4,\n",
       " 'нарушение тайна': 7,\n",
       " 'случай совершение': 3,\n",
       " 'способ передача': 3,\n",
       " 'незаконный ознакомление': 3,\n",
       " 'средство орган': 3,\n",
       " 'орган федеральный служба': 3,\n",
       " 'почтовый ящик': 3}"
      ]
     },
     "execution_count": 50,
     "metadata": {},
     "output_type": "execute_result"
    }
   ],
   "source": [
    "text1_parse_nouns = texts_parse_nouns(text1)\n",
    "text1_parse_nouns"
   ]
  },
  {
   "cell_type": "code",
   "execution_count": 51,
   "id": "e84a84d3",
   "metadata": {},
   "outputs": [
    {
     "data": {
      "text/plain": [
       "{'образование россия': 8,\n",
       " 'метод преподавание': 4,\n",
       " 'изучение дисциплина': 5,\n",
       " 'дисциплина гуманитарный цикл': 6,\n",
       " 'гуманитарный цикл': 4,\n",
       " 'профессиональный деятельность': 3,\n",
       " 'формирование общекультурный компетенция': 4,\n",
       " 'проблема препода¬вание': 3,\n",
       " 'высокий образование': 3,\n",
       " 'направление подготовка': 5,\n",
       " 'один проблема': 3,\n",
       " 'студент весь специальность': 8,\n",
       " 'исторический образование': 9,\n",
       " 'процесс специальный дисци¬плина': 4,\n",
       " 'инновационный метод': 3,\n",
       " 'преподавание история': 3,\n",
       " 'исследовательский деятельность': 3,\n",
       " 'ход исторический про¬ектирование': 3,\n",
       " 'проектный деятельность': 4,\n",
       " 'выполнение проект': 4,\n",
       " 'анализ информация': 4,\n",
       " 'составление план': 3,\n",
       " 'круглый стол': 4,\n",
       " 'публичный лекция': 3,\n",
       " 'отечественный война': 3,\n",
       " 'результат проектный деятельность': 3,\n",
       " 'исторический источник': 3,\n",
       " 'исторический ликбез': 3}"
      ]
     },
     "execution_count": 51,
     "metadata": {},
     "output_type": "execute_result"
    }
   ],
   "source": [
    "text2_parse_nouns = texts_parse_nouns(text2)\n",
    "text2_parse_nouns"
   ]
  },
  {
   "cell_type": "code",
   "execution_count": 52,
   "id": "468fcf65",
   "metadata": {},
   "outputs": [
    {
     "data": {
      "text/plain": [
       "{'серийный убийца': 14,\n",
       " 'такой преступник': 3,\n",
       " 'свой жестокость': 4,\n",
       " 'совершение преступление': 5,\n",
       " 'область криминальный психиатрия': 3,\n",
       " 'криминальный психиатрия': 3,\n",
       " 'основный мотив': 3,\n",
       " 'маска нормальность': 5,\n",
       " 'группа преступник': 3}"
      ]
     },
     "execution_count": 52,
     "metadata": {},
     "output_type": "execute_result"
    }
   ],
   "source": [
    "text3_parse_nouns = texts_parse_nouns(text3)\n",
    "text3_parse_nouns"
   ]
  },
  {
   "cell_type": "code",
   "execution_count": 53,
   "id": "47d32a34",
   "metadata": {},
   "outputs": [
    {
     "data": {
      "text/plain": [
       "{'современный реальность': 8,\n",
       " 'один сторона': 4,\n",
       " 'человеческий жизнь': 3,\n",
       " 'развитие техно-информационный общество': 4,\n",
       " 'свой применение': 3,\n",
       " 'множество концепция': 3,\n",
       " 'духовный отношение': 3,\n",
       " 'искусственный интеллект': 5,\n",
       " 'свой очередь': 3,\n",
       " 'эволюция человечество': 3,\n",
       " 'способ понимание': 4,\n",
       " 'будущее человечество': 3,\n",
       " 'человеческий вид': 4,\n",
       " 'достижение киберкультура': 3,\n",
       " 'теория искусственный интеллект': 3,\n",
       " 'существование человек': 4,\n",
       " 'этот момент': 3,\n",
       " 'современный исследователь': 3,\n",
       " 'информационный технология': 3,\n",
       " 'свой концепция': 5,\n",
       " 'современный человек': 3,\n",
       " 'сохранение телесность': 3}"
      ]
     },
     "execution_count": 53,
     "metadata": {},
     "output_type": "execute_result"
    }
   ],
   "source": [
    "text4_parse_nouns = texts_parse_nouns(text4)\n",
    "text4_parse_nouns"
   ]
  },
  {
   "cell_type": "code",
   "execution_count": 54,
   "id": "a3a8ffb2",
   "metadata": {},
   "outputs": [],
   "source": [
    "def nouns_choice(patterns_list, metrics_key_list):\n",
    "    target_list = metrics_key_list.copy()\n",
    "    for elem in patterns_list:\n",
    "        if elem not in target_list:\n",
    "            target_list.append(elem)\n",
    "    return target_list"
   ]
  },
  {
   "cell_type": "markdown",
   "id": "9797a45a",
   "metadata": {},
   "source": [
    "Функция nouns_choice проверяет, есть ли в результатах работы различных метрик (переменная metrics_key_list) сочетания, найденные путем поиска частотных соответствий морфологическим шаблонам (переменная patterns_list). Если какое-то выражение отсутствует в выдаче какого-либо метода, оно добавляется в копию списка ключевых слов - результатов этого метода. Выбран метод объединения списков, поскольку при пересечении, например, были бы отсечены включения, которые не подходят ни под один из паттернов, но при этом их можно считать ключевыми словами, также были бы исключены однословные ключевые слова (чаще существительные), которые, несомненно, являются ключевыми словами. Однако недостаток такого подхода в том, что разные бессмысленные включения (например, \"ч\" в списке для первого текста) остаются."
   ]
  },
  {
   "cell_type": "markdown",
   "id": "29b91ccc",
   "metadata": {},
   "source": [
    "Применение фильтрации по шаблонам к результатам RAKE:"
   ]
  },
  {
   "cell_type": "code",
   "execution_count": 56,
   "id": "5fa4897b",
   "metadata": {},
   "outputs": [],
   "source": [
    "rake_with_filters_text1 = nouns_choice(text1_parse_nouns, rake_kw_1)"
   ]
  },
  {
   "cell_type": "code",
   "execution_count": 57,
   "id": "61b6167c",
   "metadata": {},
   "outputs": [
    {
     "data": {
      "text/plain": [
       "['нарушение тайна переписка',\n",
       " 'неприкосновенность частный жизнь',\n",
       " 'каждый иметь право',\n",
       " 'электронный почтовый ящик',\n",
       " 'иной сообщение гражданин',\n",
       " 'тайна переписка',\n",
       " 'частный жизнь',\n",
       " 'иной сообщение',\n",
       " 'телефонный переговоры',\n",
       " 'содержание переписка',\n",
       " 'юридический лицо',\n",
       " 'подобрать пароль',\n",
       " 'телеграфный сообщение',\n",
       " 'диспозиция ст',\n",
       " 'переписка',\n",
       " 'связь',\n",
       " 'ознакомление',\n",
       " 'право',\n",
       " 'информация',\n",
       " 'сведение',\n",
       " 'лицо',\n",
       " 'почтовый',\n",
       " 'абонент',\n",
       " 'орган',\n",
       " 'передаваемый',\n",
       " 'телеграфный',\n",
       " 'отмечать',\n",
       " 'полагать',\n",
       " 'находиться',\n",
       " 'это',\n",
       " 'ст',\n",
       " '2 ст',\n",
       " 'соответствие',\n",
       " 'входящий',\n",
       " 'л',\n",
       " 'петрухин',\n",
       " 'телеграф',\n",
       " 'телефакс',\n",
       " 'далее',\n",
       " 'ч',\n",
       " 'предназначить',\n",
       " 'м',\n",
       " 'письмо',\n",
       " 'который',\n",
       " 'затем',\n",
       " 'ознакомиться',\n",
       " 'зарегистрировать',\n",
       " 'работа',\n",
       " '07',\n",
       " 'вопрос обеспечение',\n",
       " 'российский федерация',\n",
       " 'тайна связь',\n",
       " 'федеральный закон',\n",
       " 'почтовый связь',\n",
       " 'оператор связь',\n",
       " 'получение информация',\n",
       " 'профессиональный тайна',\n",
       " 'содержание такой корреспонденция',\n",
       " 'ук рф',\n",
       " 'уголовный ответственность',\n",
       " 'нарушение тайна',\n",
       " 'случай совершение',\n",
       " 'способ передача',\n",
       " 'незаконный ознакомление',\n",
       " 'средство орган',\n",
       " 'орган федеральный служба',\n",
       " 'почтовый ящик']"
      ]
     },
     "execution_count": 57,
     "metadata": {},
     "output_type": "execute_result"
    }
   ],
   "source": [
    "rake_with_filters_text1"
   ]
  },
  {
   "cell_type": "code",
   "execution_count": 58,
   "id": "4d063340",
   "metadata": {},
   "outputs": [],
   "source": [
    "rake_with_filters_text2 = nouns_choice(text2_parse_nouns, rake_kw_2)"
   ]
  },
  {
   "cell_type": "code",
   "execution_count": 59,
   "id": "b0842986",
   "metadata": {},
   "outputs": [],
   "source": [
    "rake_with_filters_text3 = nouns_choice(text3_parse_nouns, rake_kw_3)"
   ]
  },
  {
   "cell_type": "code",
   "execution_count": 60,
   "id": "f2914ea6",
   "metadata": {},
   "outputs": [],
   "source": [
    "rake_with_filters_text4 = nouns_choice(text4_parse_nouns, rake_kw_4)"
   ]
  },
  {
   "cell_type": "markdown",
   "id": "510680a8",
   "metadata": {},
   "source": [
    "Применение фильтрации по шаблонам к результатам TextRank:"
   ]
  },
  {
   "cell_type": "code",
   "execution_count": 61,
   "id": "ef213f58",
   "metadata": {},
   "outputs": [
    {
     "data": {
      "text/plain": [
       "['тайна',\n",
       " 'связь',\n",
       " 'свой',\n",
       " 'почтовый',\n",
       " 'почтово корреспонденция',\n",
       " 'это',\n",
       " 'являться информация',\n",
       " 'лицо',\n",
       " 'гражданин',\n",
       " 'иной сообщение',\n",
       " 'который',\n",
       " 'незаконный',\n",
       " 'незаконно',\n",
       " 'получить',\n",
       " 'переписка',\n",
       " 'законный',\n",
       " 'профессиональный',\n",
       " 'услуга',\n",
       " 'сведение',\n",
       " 'следовать',\n",
       " 'иметь право',\n",
       " 'конфиденциальный',\n",
       " 'федеральный закон',\n",
       " 'способ',\n",
       " 'данный преступление',\n",
       " 'незаконность действие',\n",
       " 'ст',\n",
       " 'телефонный',\n",
       " 'телефон',\n",
       " 'личный',\n",
       " 'специальный',\n",
       " 'лишь',\n",
       " 'совершенный',\n",
       " 'российский информационный',\n",
       " 'передаваемый',\n",
       " 'уголовный ответственность',\n",
       " 'оперативно',\n",
       " 'широта',\n",
       " 'доступ',\n",
       " 'гарантировать',\n",
       " 'гарантироваться',\n",
       " 'случай совершение',\n",
       " 'частный',\n",
       " 'частное',\n",
       " 'сторона',\n",
       " 'посредство',\n",
       " 'посредством',\n",
       " 'технический',\n",
       " 'всё',\n",
       " 'электронный',\n",
       " 'сеть',\n",
       " 'содержание',\n",
       " 'средство',\n",
       " 'г',\n",
       " 'становиться вопрос',\n",
       " 'орган',\n",
       " 'законодатель',\n",
       " 'конверт',\n",
       " 'конституция',\n",
       " 'работник',\n",
       " 'з',\n",
       " 'критика',\n",
       " 'прокурор',\n",
       " 'бизнес',\n",
       " 'телефакс',\n",
       " 'опасаться',\n",
       " 'обязанность',\n",
       " 'преступник',\n",
       " 'нарушение',\n",
       " 'система',\n",
       " 'мочь',\n",
       " 'интернет',\n",
       " 'также',\n",
       " 'деятельность оператор',\n",
       " 'ознакомление',\n",
       " 'необходимый',\n",
       " 'необходимо',\n",
       " 'телеграфный',\n",
       " 'получение',\n",
       " 'рф',\n",
       " 'данные',\n",
       " 'использовать',\n",
       " 'мтс',\n",
       " 'вопрос обеспечение',\n",
       " 'российский федерация',\n",
       " 'неприкосновенность частный жизнь',\n",
       " 'частный жизнь',\n",
       " 'телефонный переговоры',\n",
       " 'тайна связь',\n",
       " 'почтовый связь',\n",
       " 'тайна переписка',\n",
       " 'оператор связь',\n",
       " 'получение информация',\n",
       " 'профессиональный тайна',\n",
       " 'содержание такой корреспонденция',\n",
       " 'ук рф',\n",
       " 'нарушение тайна',\n",
       " 'способ передача',\n",
       " 'незаконный ознакомление',\n",
       " 'средство орган',\n",
       " 'орган федеральный служба',\n",
       " 'почтовый ящик']"
      ]
     },
     "execution_count": 61,
     "metadata": {},
     "output_type": "execute_result"
    }
   ],
   "source": [
    "textrank_with_filters_text1 = nouns_choice(text1_parse_nouns, textrank_kw_1)\n",
    "textrank_with_filters_text1"
   ]
  },
  {
   "cell_type": "code",
   "execution_count": 62,
   "id": "d46fc7cd",
   "metadata": {},
   "outputs": [],
   "source": [
    "textrank_with_filters_text2 = nouns_choice(text2_parse_nouns, textrank_kw_2)"
   ]
  },
  {
   "cell_type": "code",
   "execution_count": 63,
   "id": "4c02f682",
   "metadata": {},
   "outputs": [],
   "source": [
    "textrank_with_filters_text3 = nouns_choice(text3_parse_nouns, textrank_kw_3)"
   ]
  },
  {
   "cell_type": "code",
   "execution_count": 64,
   "id": "3cdf759f",
   "metadata": {},
   "outputs": [],
   "source": [
    "textrank_with_filters_text4 = nouns_choice(text4_parse_nouns, textrank_kw_4)"
   ]
  },
  {
   "cell_type": "markdown",
   "id": "a3e55566",
   "metadata": {},
   "source": [
    "Применение фильтрации по шаблонам к результатам KeyBERT (беру вариант с n-граммами, так как его можно сравнивать с би- и триграммами, полученными при использовании шаблонов) :"
   ]
  },
  {
   "cell_type": "code",
   "execution_count": 65,
   "id": "f163a628",
   "metadata": {},
   "outputs": [
    {
     "data": {
      "text/plain": [
       "['безопасность личность',\n",
       " 'жизнь право',\n",
       " 'государство тайна',\n",
       " 'личность конституция',\n",
       " 'право человек',\n",
       " 'вопрос обеспечение',\n",
       " 'российский федерация',\n",
       " 'неприкосновенность частный жизнь',\n",
       " 'частный жизнь',\n",
       " 'телефонный переговоры',\n",
       " 'иной сообщение',\n",
       " 'тайна связь',\n",
       " 'федеральный закон',\n",
       " 'почтовый связь',\n",
       " 'тайна переписка',\n",
       " 'оператор связь',\n",
       " 'получение информация',\n",
       " 'профессиональный тайна',\n",
       " 'содержание такой корреспонденция',\n",
       " 'ук рф',\n",
       " 'уголовный ответственность',\n",
       " 'нарушение тайна',\n",
       " 'случай совершение',\n",
       " 'способ передача',\n",
       " 'незаконный ознакомление',\n",
       " 'средство орган',\n",
       " 'орган федеральный служба',\n",
       " 'почтовый ящик']"
      ]
     },
     "execution_count": 65,
     "metadata": {},
     "output_type": "execute_result"
    }
   ],
   "source": [
    "keybert_with_filters_text1 = nouns_choice(text1_parse_nouns, text1_kbert_lemm)\n",
    "keybert_with_filters_text1"
   ]
  },
  {
   "cell_type": "code",
   "execution_count": 66,
   "id": "235960c2",
   "metadata": {},
   "outputs": [],
   "source": [
    "keybert_with_filters_text2 = nouns_choice(text2_parse_nouns, text2_kbert_lemm)"
   ]
  },
  {
   "cell_type": "code",
   "execution_count": 67,
   "id": "11ae991c",
   "metadata": {},
   "outputs": [],
   "source": [
    "keybert_with_filters_text3 = nouns_choice(text3_parse_nouns, text3_kbert_lemm)"
   ]
  },
  {
   "cell_type": "code",
   "execution_count": 68,
   "id": "ddfb74c2",
   "metadata": {},
   "outputs": [],
   "source": [
    "keybert_with_filters_text4 = nouns_choice(text4_parse_nouns, text4_kbert_lemm)"
   ]
  },
  {
   "cell_type": "markdown",
   "id": "b19c7f75",
   "metadata": {},
   "source": [
    "### Задание 5"
   ]
  },
  {
   "cell_type": "code",
   "execution_count": 90,
   "id": "9cfe60fe",
   "metadata": {},
   "outputs": [],
   "source": [
    "def answers_value(sample_list, list_to_value):\n",
    "    tp_counter = 0\n",
    "    fp_counter = 0\n",
    "    fn_counter = 0\n",
    "    for elem in list_to_value:\n",
    "        if elem in sample_list:\n",
    "            tp_counter += 1\n",
    "        elif elem not in sample_list:\n",
    "            fp_counter += 1\n",
    "    for ngram in sample_list:\n",
    "        if ngram not in list_to_value:\n",
    "            fn_counter += 1\n",
    "    return tp_counter, fp_counter, fn_counter\n",
    "\n",
    "def method_value(text1_results, text2_results,text3_results,text4_results):\n",
    "    tp_results = text1_results[0]+ text2_results[0]+text3_results[0]+text4_results[0]\n",
    "    fp_results = text1_results[1]+ text2_results[1]+text3_results[1]+text4_results[1]\n",
    "    fn_results = text1_results[2]+ text2_results[2]+text3_results[2]+text4_results[2]\n",
    "    return tp_results, fp_results, fn_results\n",
    "\n",
    "def evaluation(answers_valued):\n",
    "    precision = answers_valued[0]/(answers_valued[0] + answers_valued [1])\n",
    "    recall = answers_valued[0] / (answers_valued[0] + answers_valued[2])\n",
    "    f_score = 2*(precision*recall)/(precision+recall)\n",
    "    return precision, recall, f_score"
   ]
  },
  {
   "cell_type": "markdown",
   "id": "939f78ee",
   "metadata": {},
   "source": [
    "Оценка \"чистых\" результатов методов (без применения шаблонов):"
   ]
  },
  {
   "cell_type": "code",
   "execution_count": 91,
   "id": "4f209629",
   "metadata": {},
   "outputs": [
    {
     "data": {
      "text/plain": [
       "(0.05555555555555555, 0.18421052631578946, 0.08536585365853659)"
      ]
     },
     "execution_count": 91,
     "metadata": {},
     "output_type": "execute_result"
    }
   ],
   "source": [
    "evaluation(method_value(answers_value(new_key_list1, rake_kw_1), answers_value(new_key_list2, rake_kw_2), answers_value(new_key_list3, rake_kw_3),answers_value(new_key_list4, rake_kw_4)))"
   ]
  },
  {
   "cell_type": "code",
   "execution_count": 92,
   "id": "a59e03b0",
   "metadata": {},
   "outputs": [
    {
     "data": {
      "text/plain": [
       "(0.0166270783847981, 0.18421052631578946, 0.030501089324618737)"
      ]
     },
     "execution_count": 92,
     "metadata": {},
     "output_type": "execute_result"
    }
   ],
   "source": [
    "evaluation(method_value(answers_value(new_key_list1, textrank_kw_1), answers_value(new_key_list2, textrank_kw_2), answers_value(new_key_list3, textrank_kw_3),answers_value(new_key_list4, textrank_kw_4)))"
   ]
  },
  {
   "cell_type": "code",
   "execution_count": 93,
   "id": "3f19abc2",
   "metadata": {},
   "outputs": [
    {
     "data": {
      "text/plain": [
       "(0.15, 0.07692307692307693, 0.1016949152542373)"
      ]
     },
     "execution_count": 93,
     "metadata": {},
     "output_type": "execute_result"
    }
   ],
   "source": [
    "evaluation(method_value(answers_value(new_key_list1, text1_kbert), answers_value(new_key_list2, text2_kbert), answers_value(new_key_list3, text3_kbert),answers_value(new_key_list4, text4_kbert)))"
   ]
  },
  {
   "cell_type": "code",
   "execution_count": 94,
   "id": "28b07dfa",
   "metadata": {},
   "outputs": [
    {
     "ename": "ZeroDivisionError",
     "evalue": "float division by zero",
     "output_type": "error",
     "traceback": [
      "\u001b[1;31m---------------------------------------------------------------------------\u001b[0m",
      "\u001b[1;31mZeroDivisionError\u001b[0m                         Traceback (most recent call last)",
      "Input \u001b[1;32mIn [94]\u001b[0m, in \u001b[0;36m<cell line: 1>\u001b[1;34m()\u001b[0m\n\u001b[1;32m----> 1\u001b[0m \u001b[43mevaluation\u001b[49m\u001b[43m(\u001b[49m\u001b[43mmethod_value\u001b[49m\u001b[43m(\u001b[49m\u001b[43manswers_value\u001b[49m\u001b[43m(\u001b[49m\u001b[43mnew_key_list1\u001b[49m\u001b[43m,\u001b[49m\u001b[43m \u001b[49m\u001b[43mtext1_kbert_lemm\u001b[49m\u001b[43m)\u001b[49m\u001b[43m,\u001b[49m\u001b[43m \u001b[49m\u001b[43manswers_value\u001b[49m\u001b[43m(\u001b[49m\u001b[43mnew_key_list2\u001b[49m\u001b[43m,\u001b[49m\u001b[43m \u001b[49m\u001b[43mtext2_kbert_lemm\u001b[49m\u001b[43m)\u001b[49m\u001b[43m,\u001b[49m\u001b[43m \u001b[49m\u001b[43manswers_value\u001b[49m\u001b[43m(\u001b[49m\u001b[43mnew_key_list3\u001b[49m\u001b[43m,\u001b[49m\u001b[43m \u001b[49m\u001b[43mtext3_kbert_lemm\u001b[49m\u001b[43m)\u001b[49m\u001b[43m,\u001b[49m\u001b[43manswers_value\u001b[49m\u001b[43m(\u001b[49m\u001b[43mnew_key_list4\u001b[49m\u001b[43m,\u001b[49m\u001b[43m \u001b[49m\u001b[43mtext4_kbert_lemm\u001b[49m\u001b[43m)\u001b[49m\u001b[43m)\u001b[49m\u001b[43m)\u001b[49m\n",
      "Input \u001b[1;32mIn [90]\u001b[0m, in \u001b[0;36mevaluation\u001b[1;34m(answers_valued)\u001b[0m\n\u001b[0;32m     22\u001b[0m precision \u001b[38;5;241m=\u001b[39m answers_valued[\u001b[38;5;241m0\u001b[39m]\u001b[38;5;241m/\u001b[39m(answers_valued[\u001b[38;5;241m0\u001b[39m] \u001b[38;5;241m+\u001b[39m answers_valued [\u001b[38;5;241m1\u001b[39m])\n\u001b[0;32m     23\u001b[0m recall \u001b[38;5;241m=\u001b[39m answers_valued[\u001b[38;5;241m0\u001b[39m] \u001b[38;5;241m/\u001b[39m (answers_valued[\u001b[38;5;241m0\u001b[39m] \u001b[38;5;241m+\u001b[39m answers_valued[\u001b[38;5;241m2\u001b[39m])\n\u001b[1;32m---> 24\u001b[0m f_score \u001b[38;5;241m=\u001b[39m \u001b[38;5;241;43m2\u001b[39;49m\u001b[38;5;241;43m*\u001b[39;49m\u001b[43m(\u001b[49m\u001b[43mprecision\u001b[49m\u001b[38;5;241;43m*\u001b[39;49m\u001b[43mrecall\u001b[49m\u001b[43m)\u001b[49m\u001b[38;5;241;43m/\u001b[39;49m\u001b[43m(\u001b[49m\u001b[43mprecision\u001b[49m\u001b[38;5;241;43m+\u001b[39;49m\u001b[43mrecall\u001b[49m\u001b[43m)\u001b[49m\n\u001b[0;32m     25\u001b[0m \u001b[38;5;28;01mreturn\u001b[39;00m precision, recall, f_score\n",
      "\u001b[1;31mZeroDivisionError\u001b[0m: float division by zero"
     ]
    }
   ],
   "source": [
    "evaluation(method_value(answers_value(new_key_list1, text1_kbert_lemm), answers_value(new_key_list2, text2_kbert_lemm), answers_value(new_key_list3, text3_kbert_lemm),answers_value(new_key_list4, text4_kbert_lemm)))"
   ]
  },
  {
   "cell_type": "markdown",
   "id": "35677163",
   "metadata": {},
   "source": [
    "По-видимому, последний метод не дал ни одного совпадения с ключевыми словами \"золотого стандарта\" ( TP оказалось равно нулю)."
   ]
  },
  {
   "cell_type": "markdown",
   "id": "8d914c36",
   "metadata": {},
   "source": [
    "Оценка работы методов с добавленной фильтрацией по шаблонам:"
   ]
  },
  {
   "cell_type": "code",
   "execution_count": 95,
   "id": "0f217264",
   "metadata": {},
   "outputs": [
    {
     "data": {
      "text/plain": [
       "(0.04591836734693878, 0.23684210526315788, 0.07692307692307693)"
      ]
     },
     "execution_count": 95,
     "metadata": {},
     "output_type": "execute_result"
    }
   ],
   "source": [
    "evaluation(method_value(answers_value(new_key_list1, rake_with_filters_text1), answers_value(new_key_list2, rake_with_filters_text2), answers_value(new_key_list3, rake_with_filters_text3),answers_value(new_key_list4, rake_with_filters_text4)))"
   ]
  },
  {
   "cell_type": "markdown",
   "id": "753c7cf8",
   "metadata": {},
   "source": [
    "Таким образом, recall метода RAKE увеличился, но другие оценки качества снизились."
   ]
  },
  {
   "cell_type": "code",
   "execution_count": 96,
   "id": "cc86a290",
   "metadata": {},
   "outputs": [
    {
     "data": {
      "text/plain": [
       "(0.016227180527383367, 0.21052631578947367, 0.030131826741996232)"
      ]
     },
     "execution_count": 96,
     "metadata": {},
     "output_type": "execute_result"
    }
   ],
   "source": [
    "evaluation(method_value(answers_value(new_key_list1, textrank_with_filters_text1), answers_value(new_key_list2, textrank_with_filters_text2), answers_value(new_key_list3, textrank_with_filters_text3),answers_value(new_key_list4, textrank_with_filters_text4)))"
   ]
  },
  {
   "cell_type": "markdown",
   "id": "8f56be35",
   "metadata": {},
   "source": [
    "В данном случае, у метода TextRank, незначительно повысился recall, но в целом ситуация не изменилась."
   ]
  },
  {
   "cell_type": "code",
   "execution_count": 97,
   "id": "c653a821",
   "metadata": {},
   "outputs": [
    {
     "data": {
      "text/plain": [
       "(0.019801980198019802, 0.05263157894736842, 0.028776978417266185)"
      ]
     },
     "execution_count": 97,
     "metadata": {},
     "output_type": "execute_result"
    }
   ],
   "source": [
    "evaluation(method_value(answers_value(new_key_list1, keybert_with_filters_text1), answers_value(new_key_list2, keybert_with_filters_text2), answers_value(new_key_list3, keybert_with_filters_text3),answers_value(new_key_list4, keybert_with_filters_text4)))"
   ]
  },
  {
   "cell_type": "markdown",
   "id": "b635a7c3",
   "metadata": {},
   "source": [
    "У метода KeyBERT показатели улучшились, так как в предыдущем случае вообще не было выявлено совпадений (см.выше, в оценке \"чистых\" результатов\"), а здесь они есть, хотя оценка все равно получается довольно низкой."
   ]
  },
  {
   "cell_type": "markdown",
   "id": "a31314db",
   "metadata": {},
   "source": [
    "### Задание 6"
   ]
  },
  {
   "cell_type": "markdown",
   "id": "81e42354",
   "metadata": {},
   "source": [
    "Таким образом, можно видеть, что результаты чуть лучше получились у методов RAKE и TextRank, но и выделение ключевых слов с помощью этих методов требует доработки и использования дополнительных инструментов и признаков, таких как:\n",
    "\n",
    "\n",
    "* исключение слов определенных частей речи из получившихся списков ключевых слов, например, союзов и предлогов, поскольку можно видеть, что они попадают в такие списки, видимо, из-за высокой частотности. Можно также попробовать исключить глаголы, поскольку, как правило, глаголы сложно назвать ключевыми словами, как кажется, ключевыми словами чаще являются имена и именные группы\n",
    "\n",
    "* можно попробовать фильтровать получившиеся списки ключевых слов (особенно если корпус составляют специализированные тексты, как в данном случае) с помощью готовых списков частотных слов (и хорошо бы также выражений) определенной тематики, чтобы исключить попадание каких-то общих слов в список ключевых (например, \"широта\", \"критика\", \"услуга\" - скорее лишние в списке ключевых слов статьи на юридическую тему, тем не менее, KeyBERT выделили их)\n",
    "\n",
    "* использование также эмбеддингового метода. Если нет списка частотных слов и выражений, получить его на корпусе данной тематики заранее, с ним потом сравнивать. Можно также использовать этот метод уже на корпусе, откуда извлекаем ключевые слова\n",
    "\n",
    "* также хорошо бы иметь список сокращений, принятых в данной специализаци, например, ст - \"статья\" в юридических текстах, и если выделяется в качестве ключевого слова \"2 ст\" - это еще не значит, что оно бессмысленно. Возможно, текст написан об этой статье. Таким образом, наличие списка сокращений позволит не исключать кажущиеся бессмысленными буквы и буквосочетания, а, например, объединить их с их полными вариантами (если в списке ключевых слов также выделилось \"2 статья\", то вместо этого включения и \"2 ст\" можно только одно - более полное).\n",
    "\n"
   ]
  },
  {
   "cell_type": "code",
   "execution_count": null,
   "id": "739846ec",
   "metadata": {},
   "outputs": [],
   "source": []
  }
 ],
 "metadata": {
  "kernelspec": {
   "display_name": "Python 3 (ipykernel)",
   "language": "python",
   "name": "python3"
  },
  "language_info": {
   "codemirror_mode": {
    "name": "ipython",
    "version": 3
   },
   "file_extension": ".py",
   "mimetype": "text/x-python",
   "name": "python",
   "nbconvert_exporter": "python",
   "pygments_lexer": "ipython3",
   "version": "3.10.3"
  }
 },
 "nbformat": 4,
 "nbformat_minor": 5
}
